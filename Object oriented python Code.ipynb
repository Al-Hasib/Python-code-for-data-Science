{
 "cells": [
  {
   "cell_type": "code",
   "execution_count": 18,
   "metadata": {},
   "outputs": [
    {
     "name": "stdout",
     "output_type": "stream",
     "text": [
      "hasib\n",
      "45\n"
     ]
    }
   ],
   "source": [
    "class name:\n",
    "    def __init__(self,name,age):\n",
    "        self.name= name\n",
    "        self.age = age\n",
    "    def get_name(self):\n",
    "        return self.name\n",
    "    def set_age(self,age):\n",
    "        self.age=age\n",
    "    def get_age(self):\n",
    "        return self.age\n",
    "d = name(\"hasib\",34)\n",
    "d.set_age(45)\n",
    "print(d.get_name())\n",
    "print(d.get_age())"
   ]
  },
  {
   "cell_type": "code",
   "execution_count": 24,
   "metadata": {},
   "outputs": [
    {
     "name": "stdout",
     "output_type": "stream",
     "text": [
      "True\n",
      "False\n",
      "87.0\n"
     ]
    }
   ],
   "source": [
    "class student:\n",
    "    def __init__(self,name,age,grade):\n",
    "        self.name = name\n",
    "        self.age = age \n",
    "        self.grade= grade\n",
    "    def get_grade(self):\n",
    "        return self.grade\n",
    "class course:\n",
    "    def __init__(self,name,max_students):\n",
    "        self.name=name\n",
    "        self.max_students=max_students\n",
    "        self.students=[]\n",
    "    def add_student(self,student):\n",
    "        if len(self.students)< self.max_students:\n",
    "            self.students.append(student)\n",
    "            return True\n",
    "        return False\n",
    "    def avearge_grade(self):\n",
    "        value = 0\n",
    "        for student in self.students:\n",
    "            value+=student.get_grade()\n",
    "        return value/ len(self.students)\n",
    "s1 = student(\"Hasib\",22,85)\n",
    "s2 = student(\"sujon\",23,89)\n",
    "s3 = student(\"alomgir\",21,80)\n",
    "\n",
    "course = course(\"Science\",2)\n",
    "course.add_student(s1)\n",
    "print(course.add_student(s2))\n",
    "print(course.add_student(s3))\n",
    "\n",
    "print(course.avearge_grade())"
   ]
  },
  {
   "cell_type": "code",
   "execution_count": 31,
   "metadata": {},
   "outputs": [
    {
     "name": "stdout",
     "output_type": "stream",
     "text": [
      "Meow\n",
      "I am Robin and 21 years old\n",
      "Gheu ghuew\n"
     ]
    }
   ],
   "source": [
    "class pet:\n",
    "    def __init__(self,name,age):\n",
    "        self.name = name\n",
    "        self.age = age\n",
    "    def show(self):\n",
    "        print(f\"I am {self.name} and {self.age} years old\")\n",
    "    def speak(self):\n",
    "        print(\"I don't know What I say\")\n",
    "class cat(pet):\n",
    "    def spark(self):\n",
    "        print(\"Meow\")\n",
    "class dog(pet):\n",
    "    def spark(self):\n",
    "        print(\"Gheu ghuew\")\n",
    "# a = pet(\"Hasib\",22)\n",
    "a = cat(\"Hasib\",23)\n",
    "a.spark()\n",
    "b = dog(\"Robin\",21)\n",
    "b.show()\n",
    "b.spark()"
   ]
  },
  {
   "cell_type": "code",
   "execution_count": null,
   "metadata": {},
   "outputs": [],
   "source": []
  }
 ],
 "metadata": {
  "kernelspec": {
   "display_name": "Python 3",
   "language": "python",
   "name": "python3"
  },
  "language_info": {
   "codemirror_mode": {
    "name": "ipython",
    "version": 3
   },
   "file_extension": ".py",
   "mimetype": "text/x-python",
   "name": "python",
   "nbconvert_exporter": "python",
   "pygments_lexer": "ipython3",
   "version": "3.8.3"
  }
 },
 "nbformat": 4,
 "nbformat_minor": 4
}
