{
 "cells": [
  {
   "cell_type": "code",
   "execution_count": 4,
   "metadata": {},
   "outputs": [
    {
     "name": "stdout",
     "output_type": "stream",
     "text": [
      "34 * 1 = 34\n",
      "34 * 2 = 68\n",
      "34 * 3 = 102\n",
      "34 * 4 = 136\n",
      "34 * 5 = 170\n",
      "34 * 6 = 204\n",
      "34 * 7 = 238\n",
      "34 * 8 = 272\n",
      "34 * 9 = 306\n",
      "34 * 10 = 340\n"
     ]
    }
   ],
   "source": [
    "# Function\n",
    "def createMultipleTable(num):\n",
    "    for i in range(1,11):\n",
    "        print(num,\"*\",i,\"=\",num*i)\n",
    "createMultipletable(34)"
   ]
  },
  {
   "cell_type": "code",
   "execution_count": 7,
   "metadata": {},
   "outputs": [],
   "source": [
    "name=['Hasib','RObin']\n",
    "Others = {'sex':\"male\",'Phone_num':\"01741813559\"}"
   ]
  },
  {
   "cell_type": "code",
   "execution_count": 12,
   "metadata": {},
   "outputs": [
    {
     "name": "stdout",
     "output_type": "stream",
     "text": [
      "('Hasib', 'RObin')\n",
      "{'sex': 'male', 'Phone_num': '01741813559'}\n"
     ]
    }
   ],
   "source": [
    "# arg= argument like num,string and karg= keywardArgument like Dictionary which contain key and value\n",
    "def Information(*arg,**karg):\n",
    "    print(arg)\n",
    "    print(karg)\n",
    "Information(*name,**Others)"
   ]
  },
  {
   "cell_type": "code",
   "execution_count": 14,
   "metadata": {},
   "outputs": [
    {
     "data": {
      "text/plain": [
       "12"
      ]
     },
     "execution_count": 14,
     "metadata": {},
     "output_type": "execute_result"
    }
   ],
   "source": [
    "# Lambda Function Which contain one or more argument but one expression\n",
    "add = lambda x,y,z:x+y+z\n",
    "add(3,4,5)"
   ]
  },
  {
   "cell_type": "code",
   "execution_count": 21,
   "metadata": {},
   "outputs": [
    {
     "data": {
      "text/plain": [
       "['The 1 is Odd',\n",
       " 'The 2 is even',\n",
       " 'The 3 is Odd',\n",
       " 'The 4 is even',\n",
       " 'The 5 is Odd',\n",
       " 'The 6 is even',\n",
       " 'The 7 is Odd',\n",
       " 'The 8 is even',\n",
       " 'The 9 is Odd',\n",
       " 'The 10 is even']"
      ]
     },
     "execution_count": 21,
     "metadata": {},
     "output_type": "execute_result"
    }
   ],
   "source": [
    "# map funtion\n",
    "def EvenOdd(num):\n",
    "    if num%2==0:\n",
    "        return(f'The {num} is even')\n",
    "    else:\n",
    "        return(f'The {num} is Odd')\n",
    "li = [1,2,3,4,5,6,7,8,9,10]\n",
    "list(map(EvenOdd,li))"
   ]
  },
  {
   "cell_type": "code",
   "execution_count": 1,
   "metadata": {},
   "outputs": [
    {
     "data": {
      "text/plain": [
       "[2, 4, 6, 8, 10]"
      ]
     },
     "execution_count": 1,
     "metadata": {},
     "output_type": "execute_result"
    }
   ],
   "source": [
    "# Filter Function\n",
    "def CheckEven(num):\n",
    "    if num%2==0:\n",
    "        return num\n",
    "li = [1,2,3,4,5,6,7,8,9,10]\n",
    "list(filter(CheckEven,li))"
   ]
  },
  {
   "cell_type": "code",
   "execution_count": 2,
   "metadata": {},
   "outputs": [
    {
     "data": {
      "text/plain": [
       "[2, 4, 6, 8, 10]"
      ]
     },
     "execution_count": 2,
     "metadata": {},
     "output_type": "execute_result"
    }
   ],
   "source": [
    "list(filter(lambda num:num%2==0,li))"
   ]
  },
  {
   "cell_type": "code",
   "execution_count": 4,
   "metadata": {},
   "outputs": [
    {
     "data": {
      "text/plain": [
       "[4, 16, 36, 64]"
      ]
     },
     "execution_count": 4,
     "metadata": {},
     "output_type": "execute_result"
    }
   ],
   "source": [
    "# List Comprehensive\n",
    "a = [i*i for i in range(1,10) if i%2==0]\n",
    "a"
   ]
  },
  {
   "cell_type": "code",
   "execution_count": 5,
   "metadata": {},
   "outputs": [
    {
     "name": "stdout",
     "output_type": "stream",
     "text": [
      "1\n",
      "2\n",
      "3\n",
      "4\n",
      "5\n"
     ]
    }
   ],
   "source": [
    "# Iterators\n",
    "\n",
    "class MyNumbers:\n",
    "  def __iter__(self):\n",
    "    self.a = 1\n",
    "    return self\n",
    "\n",
    "  def __next__(self):\n",
    "    x = self.a\n",
    "    self.a += 1\n",
    "    return x\n",
    "\n",
    "myclass = MyNumbers()\n",
    "myiter = iter(myclass)\n",
    "\n",
    "print(next(myiter))\n",
    "print(next(myiter))\n",
    "print(next(myiter))\n",
    "print(next(myiter))\n",
    "print(next(myiter))"
   ]
  },
  {
   "cell_type": "code",
   "execution_count": 10,
   "metadata": {},
   "outputs": [
    {
     "data": {
      "text/plain": [
       "'Mehedi'"
      ]
     },
     "execution_count": 10,
     "metadata": {},
     "output_type": "execute_result"
    }
   ],
   "source": [
    "ls = ['AL_HASIB','Sujon','Mehedi']\n",
    "a = iter(ls)\n",
    "next(a)\n",
    "next(a)\n",
    "next(a)"
   ]
  },
  {
   "cell_type": "code",
   "execution_count": 6,
   "metadata": {},
   "outputs": [
    {
     "data": {
      "text/plain": [
       "['from openpyxl import load_workbook',\n",
       " 'import plotly.express as px',\n",
       " 'import xgboost as xgb',\n",
       " 'import glob',\n",
       " 'import pickle',\n",
       " 'import matplotlib as mpl',\n",
       " 'import sys',\n",
       " 'import lightgbm as lgb',\n",
       " 'import gensim',\n",
       " 'from pathlib import Path',\n",
       " 'import seaborn as sns',\n",
       " 'from sklearn.model_selection import train_test_split',\n",
       " 'import keras',\n",
       " 'import plotly as py',\n",
       " 'from sklearn.manifold import TSNE',\n",
       " 'import spacy',\n",
       " 'from sklearn import svm',\n",
       " 'import nltk',\n",
       " 'import tqdm',\n",
       " 'import pydot',\n",
       " 'from sklearn.ensemble import GradientBoostingClassifier',\n",
       " 'import re',\n",
       " 'from dask import dataframe as dd',\n",
       " 'import tensorflow as tf',\n",
       " 'import altair as alt',\n",
       " 'import dash',\n",
       " 'import sklearn',\n",
       " 'from sklearn.ensemble import GradientBoostingRegressor',\n",
       " 'from sklearn.ensemble import RandomForestRegressor',\n",
       " 'import plotly.graph_objs as go',\n",
       " 'from sklearn.ensemble import RandomForestClassifier',\n",
       " 'import statistics',\n",
       " 'import datetime as dt',\n",
       " 'import bokeh',\n",
       " 'from sklearn.preprocessing import OneHotEncoder',\n",
       " 'from sklearn.feature_extraction.text import TfidfVectorizer',\n",
       " 'import pandas as pd',\n",
       " 'import matplotlib.pyplot as plt',\n",
       " 'import awswrangler as wr',\n",
       " 'from pyspark import SparkContext',\n",
       " 'import os']"
      ]
     },
     "execution_count": 6,
     "metadata": {},
     "output_type": "execute_result"
    }
   ],
   "source": [
    "# pyforest\n",
    "lazy_imports()"
   ]
  },
  {
   "cell_type": "code",
   "execution_count": null,
   "metadata": {},
   "outputs": [],
   "source": []
  }
 ],
 "metadata": {
  "kernelspec": {
   "display_name": "Python 3",
   "language": "python",
   "name": "python3"
  },
  "language_info": {
   "codemirror_mode": {
    "name": "ipython",
    "version": 3
   },
   "file_extension": ".py",
   "mimetype": "text/x-python",
   "name": "python",
   "nbconvert_exporter": "python",
   "pygments_lexer": "ipython3",
   "version": "3.8.3"
  }
 },
 "nbformat": 4,
 "nbformat_minor": 4
}
