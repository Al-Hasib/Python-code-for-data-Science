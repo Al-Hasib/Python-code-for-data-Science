{
 "cells": [
  {
   "cell_type": "code",
   "execution_count": 4,
   "metadata": {},
   "outputs": [
    {
     "name": "stdout",
     "output_type": "stream",
     "text": [
      "34 * 1 = 34\n",
      "34 * 2 = 68\n",
      "34 * 3 = 102\n",
      "34 * 4 = 136\n",
      "34 * 5 = 170\n",
      "34 * 6 = 204\n",
      "34 * 7 = 238\n",
      "34 * 8 = 272\n",
      "34 * 9 = 306\n",
      "34 * 10 = 340\n"
     ]
    }
   ],
   "source": [
    "# Function\n",
    "def createMultipleTable(num):\n",
    "    for i in range(1,11):\n",
    "        print(num,\"*\",i,\"=\",num*i)\n",
    "createMultipletable(34)"
   ]
  },
  {
   "cell_type": "code",
   "execution_count": 7,
   "metadata": {},
   "outputs": [],
   "source": [
    "name=['Hasib','RObin']\n",
    "Others = {'sex':\"male\",'Phone_num':\"01741813559\"}"
   ]
  },
  {
   "cell_type": "code",
   "execution_count": 12,
   "metadata": {},
   "outputs": [
    {
     "name": "stdout",
     "output_type": "stream",
     "text": [
      "('Hasib', 'RObin')\n",
      "{'sex': 'male', 'Phone_num': '01741813559'}\n"
     ]
    }
   ],
   "source": [
    "# arg= argument like num,string and karg= keywardArgument like Dictionary which contain key and value\n",
    "def Information(*arg,**karg):\n",
    "    print(arg)\n",
    "    print(karg)\n",
    "Information(*name,**Others)"
   ]
  },
  {
   "cell_type": "code",
   "execution_count": 14,
   "metadata": {},
   "outputs": [
    {
     "data": {
      "text/plain": [
       "12"
      ]
     },
     "execution_count": 14,
     "metadata": {},
     "output_type": "execute_result"
    }
   ],
   "source": [
    "# Lambda Function Which contain one or more argument but one expression\n",
    "add = lambda x,y,z:x+y+z\n",
    "add(3,4,5)"
   ]
  },
  {
   "cell_type": "code",
   "execution_count": 21,
   "metadata": {},
   "outputs": [
    {
     "data": {
      "text/plain": [
       "['The 1 is Odd',\n",
       " 'The 2 is even',\n",
       " 'The 3 is Odd',\n",
       " 'The 4 is even',\n",
       " 'The 5 is Odd',\n",
       " 'The 6 is even',\n",
       " 'The 7 is Odd',\n",
       " 'The 8 is even',\n",
       " 'The 9 is Odd',\n",
       " 'The 10 is even']"
      ]
     },
     "execution_count": 21,
     "metadata": {},
     "output_type": "execute_result"
    }
   ],
   "source": [
    "# map funtion\n",
    "def EvenOdd(num):\n",
    "    if num%2==0:\n",
    "        return(f'The {num} is even')\n",
    "    else:\n",
    "        return(f'The {num} is Odd')\n",
    "li = [1,2,3,4,5,6,7,8,9,10]\n",
    "list(map(EvenOdd,li))"
   ]
  },
  {
   "cell_type": "code",
   "execution_count": null,
   "metadata": {},
   "outputs": [],
   "source": []
  }
 ],
 "metadata": {
  "kernelspec": {
   "display_name": "Python 3",
   "language": "python",
   "name": "python3"
  },
  "language_info": {
   "codemirror_mode": {
    "name": "ipython",
    "version": 3
   },
   "file_extension": ".py",
   "mimetype": "text/x-python",
   "name": "python",
   "nbconvert_exporter": "python",
   "pygments_lexer": "ipython3",
   "version": "3.8.3"
  }
 },
 "nbformat": 4,
 "nbformat_minor": 4
}
